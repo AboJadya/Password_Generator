{
 "cells": [
  {
   "cell_type": "code",
   "execution_count": 1,
   "id": "7a8bb149",
   "metadata": {},
   "outputs": [],
   "source": [
    "import string\n",
    "import random"
   ]
  },
  {
   "cell_type": "code",
   "execution_count": 9,
   "id": "45071853",
   "metadata": {},
   "outputs": [],
   "source": [
    "character = list(string.ascii_lowercase + string.ascii_uppercase + string.digits + string.punctuation)\n",
    "def pass_gen():\n",
    "    length = int(input(\"enter password length: \"))\n",
    "    password = []\n",
    "    \n",
    "    random.shuffle(character)\n",
    "    \n",
    "    for i in range (length):\n",
    "        password.append(random.choice(character))\n",
    "        \n",
    "    random.shuffle(password)\n",
    "    print(\"\".join(password))"
   ]
  },
  {
   "cell_type": "code",
   "execution_count": 10,
   "id": "8096a95b",
   "metadata": {},
   "outputs": [
    {
     "name": "stdout",
     "output_type": "stream",
     "text": [
      "enter password length: 17\n",
      "9=51q}XRJ#'#HVuL+\n"
     ]
    }
   ],
   "source": [
    "pass_gen()"
   ]
  },
  {
   "cell_type": "code",
   "execution_count": null,
   "id": "c4b8c132",
   "metadata": {},
   "outputs": [],
   "source": []
  }
 ],
 "metadata": {
  "kernelspec": {
   "display_name": "Python 3",
   "language": "python",
   "name": "python3"
  },
  "language_info": {
   "codemirror_mode": {
    "name": "ipython",
    "version": 3
   },
   "file_extension": ".py",
   "mimetype": "text/x-python",
   "name": "python",
   "nbconvert_exporter": "python",
   "pygments_lexer": "ipython3",
   "version": "3.8.8"
  }
 },
 "nbformat": 4,
 "nbformat_minor": 5
}
